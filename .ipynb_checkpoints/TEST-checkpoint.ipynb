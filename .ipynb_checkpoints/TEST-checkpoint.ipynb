{
 "cells": [
  {
   "cell_type": "code",
   "execution_count": null,
   "id": "8de713b2",
   "metadata": {},
   "outputs": [],
   "source": [
    "# Import Splinter and BeautifulSoup\n",
    "from splinter import Browser\n",
    "from bs4 import BeautifulSoup as soup\n",
    "from webdriver_manager.chrome import ChromeDriverManager"
   ]
  },
  {
   "cell_type": "code",
   "execution_count": null,
   "id": "ef5c23fe",
   "metadata": {},
   "outputs": [],
   "source": [
    "executable_path = {'executable_path': ChromeDriverManager().install()}\n",
    "browser = Browser('chrome', **executable_path, headless=False)"
   ]
  },
  {
   "cell_type": "code",
   "execution_count": null,
   "id": "5f23c037",
   "metadata": {},
   "outputs": [],
   "source": [
    "# Visit the Mars NASA news site\n",
    "url = 'https://redplanetscience.com'\n",
    "browser.visit(url)\n",
    "# Optional delay for loading the page\n",
    "browser.is_element_present_by_css('div.list_text', wait_time=1)"
   ]
  },
  {
   "cell_type": "code",
   "execution_count": null,
   "id": "61b7d2a4",
   "metadata": {},
   "outputs": [],
   "source": [
    "# Parse the HTML\n",
    "html = browser.html\n",
    "news_soup = soup(html, 'html.parser')\n",
    "slide_elem = news_soup.select_one('div.list_text')"
   ]
  },
  {
   "cell_type": "code",
   "execution_count": null,
   "id": "3a332b43",
   "metadata": {},
   "outputs": [],
   "source": [
    "# TEST GET A LIST OF ALL TITLES\n",
    "\n",
    "titles = news_soup.find_all('div', class_='content_title')\n",
    "\n",
    "for title in titles:\n",
    "    article = title.get_text()\n",
    "    art_dict = {'title': article}\n",
    "    print(art_dict)"
   ]
  },
  {
   "cell_type": "code",
   "execution_count": null,
   "id": "eaa5b0b6",
   "metadata": {},
   "outputs": [],
   "source": [
    "# TEST GET A LIST OF ALL EXCERTS\n",
    "\n",
    "mysum = news_soup.find_all('div', class_='article_teaser_body')\n",
    "\n",
    "for summary in mysum:\n",
    "    artsum = summary.get_text()\n",
    "    sum_dict ={'preview': artsum}\n",
    "    print(sum_dict)"
   ]
  },
  {
   "cell_type": "code",
   "execution_count": null,
   "id": "69a31279",
   "metadata": {},
   "outputs": [],
   "source": [
    "\n",
    "browser.visit('https://redplanetscience.com')\n",
    "news_soup = soup(browser.html, 'html.parser')\n",
    "\n",
    "artnews = []\n",
    "\n",
    "for i, title in enumerate(news_soup.findAll('div', class_='content_title')):\n",
    "    artnews.append({\"title\": title.text,\"preview\":news_soup.findAll('div', class_='article_teaser_body')[i].text}\n",
    "                    \n",
    "artnews"
   ]
  },
  {
   "cell_type": "code",
   "execution_count": null,
   "id": "c2d98194",
   "metadata": {},
   "outputs": [],
   "source": [
    "browser.quit()"
   ]
  },
  {
   "cell_type": "code",
   "execution_count": null,
   "id": "59129d14",
   "metadata": {},
   "outputs": [],
   "source": []
  },
  {
   "cell_type": "code",
   "execution_count": null,
   "id": "442b6278",
   "metadata": {},
   "outputs": [],
   "source": []
  }
 ],
 "metadata": {
  "kernelspec": {
   "display_name": "Python 3 (ipykernel)",
   "language": "python",
   "name": "python3"
  },
  "language_info": {
   "codemirror_mode": {
    "name": "ipython",
    "version": 3
   },
   "file_extension": ".py",
   "mimetype": "text/x-python",
   "name": "python",
   "nbconvert_exporter": "python",
   "pygments_lexer": "ipython3",
   "version": "3.9.12"
  }
 },
 "nbformat": 4,
 "nbformat_minor": 5
}
